{
 "cells": [
  {
   "cell_type": "code",
   "execution_count": null,
   "metadata": {
    "cell_id": "b3e57444188a4a5a834fc1909ffb90d2",
    "deepnote_cell_height": 207,
    "deepnote_cell_type": "code",
    "deepnote_to_be_reexecuted": false,
    "execution_millis": 1967,
    "execution_start": 1656240480438,
    "source_hash": "35c01953",
    "tags": []
   },
   "outputs": [],
   "source": [
    "import matplotlib.pyplot as plt\n",
    "import numpy as np\n",
    "import pickle\n",
    "import random\n",
    "from scipy import stats as st\n",
    "from scipy import optimize\n",
    "import time\n",
    "import seaborn as sns"
   ]
  },
  {
   "cell_type": "code",
   "execution_count": null,
   "metadata": {
    "cell_id": "908e3267095c4d49978397f88d79c4ff",
    "deepnote_cell_height": 81,
    "deepnote_cell_type": "code",
    "deepnote_to_be_reexecuted": false,
    "execution_millis": 6,
    "execution_start": 1656240482411,
    "source_hash": "661872ee",
    "tags": []
   },
   "outputs": [],
   "source": [
    "sns.set()"
   ]
  },
  {
   "cell_type": "code",
   "execution_count": null,
   "metadata": {
    "cell_id": "a12847ecd9134c3a83c82cdaf7ac57bb",
    "deepnote_cell_height": 207,
    "deepnote_cell_type": "code",
    "deepnote_to_be_reexecuted": false,
    "execution_millis": 0,
    "execution_start": 1656185048701,
    "source_hash": "8415dd18",
    "tags": []
   },
   "outputs": [],
   "source": [
    "def ruch_browna(N, T, x):\n",
    "    h = T/N\n",
    "    lista = [i*h for i in range(N)]\n",
    "    W = np.zeros(N)\n",
    "    W[0] = x\n",
    "    for j in range(N-1):\n",
    "        W[j+1] = W[j] + h**(1/2)*np.random.normal(loc = 0.0, scale = 1.0)\n",
    "    return W, lista"
   ]
  },
  {
   "cell_type": "code",
   "execution_count": null,
   "metadata": {
    "cell_id": "452e5485b3e84425ba246847e78d7c29",
    "deepnote_cell_height": 703.1875,
    "deepnote_cell_type": "code",
    "deepnote_output_heights": [
     606.1875
    ],
    "deepnote_to_be_reexecuted": false,
    "execution_millis": 3,
    "execution_start": 1656185049187,
    "source_hash": "303594a3",
    "tags": []
   },
   "outputs": [
    {
     "data": {
      "text/plain": [
       "(array([ 3.        ,  3.40984541,  3.38627596,  3.79456057,  2.34028844,\n",
       "         2.53712348,  2.57610888,  3.72710199,  4.47410755,  3.24335439,\n",
       "         0.67256721,  0.42112029,  0.22773409,  0.79156335,  1.55451062,\n",
       "         0.9737931 , -0.05094556, -1.1374075 , -2.62379801, -2.47567693,\n",
       "        -0.11184571, -0.8046878 , -0.65648269, -0.33062693, -0.04856559,\n",
       "         0.56965548,  2.14388504,  0.83289447,  1.59818408,  2.755098  ,\n",
       "         2.86629842,  3.35695024,  3.76886913,  3.13453377,  4.00162833,\n",
       "         3.89589713,  5.05797313,  5.73649915,  3.35125121,  1.23591312,\n",
       "        -0.34952227, -0.89701688, -0.62036342, -0.86229523, -0.04054938,\n",
       "        -0.25320476, -1.01069149,  0.67615171,  2.29173618,  1.99509413,\n",
       "         3.6010229 ,  2.99313141,  1.99766904, -0.53349244, -0.82712434,\n",
       "        -0.95782118, -0.64276422,  1.08128959,  2.11547148,  1.09054214,\n",
       "         2.44276536,  1.21767289,  0.44541498,  0.86452325, -0.2767293 ,\n",
       "        -2.16525198, -2.83333752, -0.2967997 ,  0.83036132,  1.34584527,\n",
       "         0.32264129,  0.03933618,  0.9320453 ,  2.264379  ,  3.43500792,\n",
       "         3.58823978,  4.77459282,  4.19418277,  4.42299693,  5.38423171,\n",
       "         6.01888859,  7.47160143,  7.11148302,  6.83988392,  6.9875574 ,\n",
       "         8.76120725,  7.92800663,  8.67578109,  7.94733386,  7.73153448,\n",
       "         7.69702944,  7.75304457,  7.45773215,  6.70839296,  7.09034509,\n",
       "         6.93957089,  6.70541616,  6.2698023 ,  6.51743253,  6.24728932]),\n",
       " [0.0,\n",
       "  1.0,\n",
       "  2.0,\n",
       "  3.0,\n",
       "  4.0,\n",
       "  5.0,\n",
       "  6.0,\n",
       "  7.0,\n",
       "  8.0,\n",
       "  9.0,\n",
       "  10.0,\n",
       "  11.0,\n",
       "  12.0,\n",
       "  13.0,\n",
       "  14.0,\n",
       "  15.0,\n",
       "  16.0,\n",
       "  17.0,\n",
       "  18.0,\n",
       "  19.0,\n",
       "  20.0,\n",
       "  21.0,\n",
       "  22.0,\n",
       "  23.0,\n",
       "  24.0,\n",
       "  25.0,\n",
       "  26.0,\n",
       "  27.0,\n",
       "  28.0,\n",
       "  29.0,\n",
       "  30.0,\n",
       "  31.0,\n",
       "  32.0,\n",
       "  33.0,\n",
       "  34.0,\n",
       "  35.0,\n",
       "  36.0,\n",
       "  37.0,\n",
       "  38.0,\n",
       "  39.0,\n",
       "  40.0,\n",
       "  41.0,\n",
       "  42.0,\n",
       "  43.0,\n",
       "  44.0,\n",
       "  45.0,\n",
       "  46.0,\n",
       "  47.0,\n",
       "  48.0,\n",
       "  49.0,\n",
       "  50.0,\n",
       "  51.0,\n",
       "  52.0,\n",
       "  53.0,\n",
       "  54.0,\n",
       "  55.0,\n",
       "  56.0,\n",
       "  57.0,\n",
       "  58.0,\n",
       "  59.0,\n",
       "  60.0,\n",
       "  61.0,\n",
       "  62.0,\n",
       "  63.0,\n",
       "  64.0,\n",
       "  65.0,\n",
       "  66.0,\n",
       "  67.0,\n",
       "  68.0,\n",
       "  69.0,\n",
       "  70.0,\n",
       "  71.0,\n",
       "  72.0,\n",
       "  73.0,\n",
       "  74.0,\n",
       "  75.0,\n",
       "  76.0,\n",
       "  77.0,\n",
       "  78.0,\n",
       "  79.0,\n",
       "  80.0,\n",
       "  81.0,\n",
       "  82.0,\n",
       "  83.0,\n",
       "  84.0,\n",
       "  85.0,\n",
       "  86.0,\n",
       "  87.0,\n",
       "  88.0,\n",
       "  89.0,\n",
       "  90.0,\n",
       "  91.0,\n",
       "  92.0,\n",
       "  93.0,\n",
       "  94.0,\n",
       "  95.0,\n",
       "  96.0,\n",
       "  97.0,\n",
       "  98.0,\n",
       "  99.0])"
      ]
     },
     "execution_count": 5,
     "metadata": {},
     "output_type": "execute_result"
    }
   ],
   "source": [
    "ruch_browna(100,100,3)"
   ]
  },
  {
   "cell_type": "code",
   "execution_count": null,
   "metadata": {
    "cell_id": "ffac315d366742e6b40b0c7313bffd97",
    "deepnote_cell_height": 171,
    "deepnote_cell_type": "code",
    "deepnote_to_be_reexecuted": false,
    "execution_millis": 0,
    "execution_start": 1656185576527,
    "source_hash": "ebfbfa47",
    "tags": []
   },
   "outputs": [],
   "source": [
    "def limit(a, b, N, T, x):\n",
    "    lista_ = ruch_browna(N, T, x)[0]\n",
    "    for i in lista_:\n",
    "        if i > b or i < a:\n",
    "            itid = np.where(lista_ == i)\n",
    "            return float(itid[0])*T/N"
   ]
  },
  {
   "cell_type": "code",
   "execution_count": null,
   "metadata": {
    "cell_id": "598bf4615261487cb69b1afd8c921a57",
    "deepnote_cell_height": 118.1875,
    "deepnote_cell_type": "code",
    "deepnote_output_heights": [
     21.1875
    ],
    "deepnote_to_be_reexecuted": false,
    "execution_millis": 4,
    "execution_start": 1656185576702,
    "source_hash": "142e8145",
    "tags": []
   },
   "outputs": [
    {
     "data": {
      "text/plain": [
       "4.0"
      ]
     },
     "execution_count": 11,
     "metadata": {},
     "output_type": "execute_result"
    }
   ],
   "source": [
    "limit(1,4,100,100,3)"
   ]
  },
  {
   "cell_type": "code",
   "execution_count": null,
   "metadata": {
    "cell_id": "dc729e81efc944188281429e98aef968",
    "deepnote_cell_height": 518.75,
    "deepnote_cell_type": "code",
    "deepnote_output_heights": [
     223.75
    ],
    "deepnote_to_be_reexecuted": false,
    "execution_millis": 224630,
    "execution_start": 1656186368994,
    "source_hash": "50a9c93b",
    "tags": []
   },
   "outputs": [
    {
     "data": {
      "image/png": "[encoded data removed]",
      "text/plain": [
       "<Figure size 432x288 with 1 Axes>"
      ]
     },
     "metadata": {
      "image/png": {
       "height": 251,
       "width": 383
      },
      "needs_background": "light"
     },
     "output_type": "display_data"
    }
   ],
   "source": [
    "a, b, N, T = 0, 10, 100, 1020\n",
    "xs = np.linspace(a, b, 100)\n",
    "\n",
    "A = []\n",
    "for i in xs:\n",
    "    B = []\n",
    "    for j in range(5000):\n",
    "        B.append(np.mean(limit(a, b, N, T, i)))\n",
    "    A.append(np.mean(B))\n",
    "\n",
    "plt.plot(A)\n",
    "plt.title(\"położenie ruchu\")"
   ]
  },
  {
   "cell_type": "code",
   "execution_count": null,
   "metadata": {
    "cell_id": "a471db82ecbb4d9e9b1e52ce708e2329",
    "deepnote_cell_height": 207,
    "deepnote_cell_type": "code",
    "deepnote_to_be_reexecuted": false,
    "execution_millis": 21,
    "execution_start": 1656234916052,
    "source_hash": "ae6124bd",
    "tags": []
   },
   "outputs": [],
   "source": [
    "def brown(T, dt, x=0):\n",
    "    n = int(np.ceil(T / dt))\n",
    "    delta = T / n\n",
    "    z_vals = np.random.normal(loc=0, scale=np.sqrt(delta), size=n - 1)\n",
    "    z_vals = np.r_[np.array(0), z_vals]\n",
    "    values = np.cumsum(z_vals) + x\n",
    "    args = np.linspace(0, T, num=n)\n",
    "    return np.array([args, values])"
   ]
  },
  {
   "cell_type": "code",
   "execution_count": null,
   "metadata": {
    "cell_id": "1166a53451754734aab2a44a8b695239",
    "deepnote_cell_height": 81,
    "deepnote_cell_type": "code",
    "deepnote_to_be_reexecuted": false,
    "execution_millis": 105,
    "execution_start": 1656234917398,
    "source_hash": "638364e6",
    "tags": []
   },
   "outputs": [],
   "source": [
    "sample = np.array([brown(10, 0.01) for _ in range(100)])"
   ]
  },
  {
   "cell_type": "code",
   "execution_count": null,
   "metadata": {
    "cell_id": "9eb16143ca314c0dbb6a501047b305f3",
    "deepnote_cell_height": 118.1875,
    "deepnote_cell_type": "code",
    "deepnote_output_heights": [
     21.1875
    ],
    "deepnote_to_be_reexecuted": false,
    "execution_millis": 44,
    "execution_start": 1656234917515,
    "source_hash": "2094de1",
    "tags": []
   },
   "outputs": [
    {
     "data": {
      "text/plain": [
       "4.084195013091211"
      ]
     },
     "execution_count": 5,
     "metadata": {},
     "output_type": "execute_result"
    }
   ],
   "source": [
    "np.sqrt(2*10*np.log(np.log(10)))"
   ]
  },
  {
   "cell_type": "code",
   "execution_count": null,
   "metadata": {
    "cell_id": "d587d902613c4088868cc1e3098db38d",
    "deepnote_cell_height": 243,
    "deepnote_cell_type": "code",
    "deepnote_to_be_reexecuted": false,
    "execution_millis": 1,
    "execution_start": 1656234917587,
    "source_hash": "c4403ea",
    "tags": []
   },
   "outputs": [],
   "source": [
    "def brown_exit(a, b, dt, x=0):\n",
    "    B = x\n",
    "    time = 0\n",
    "    while 1:\n",
    "        if B <= a:\n",
    "            return [time, False]\n",
    "        elif B >= b:\n",
    "            return [time, True]\n",
    "        B += np.random.normal(loc=0, scale=np.sqrt(dt))\n",
    "        time += dt"
   ]
  },
  {
   "cell_type": "code",
   "execution_count": null,
   "metadata": {
    "cell_id": "af46c3e6823441c69d5f419f8b5cbf1f",
    "deepnote_cell_height": 189,
    "deepnote_cell_type": "code",
    "deepnote_to_be_reexecuted": false,
    "execution_millis": 20,
    "execution_start": 1656234917882,
    "source_hash": "2ae68185",
    "tags": []
   },
   "outputs": [],
   "source": [
    "def mean_brown_exit(a, b, dt, x_rg, N=100):\n",
    "    res = []\n",
    "    for x in x_rg:\n",
    "        sim_x = np.array([brown_exit(a, b, dt, x) for _ in range(N)])\n",
    "        \n",
    "        res.append([x, *np.mean(sim_x, axis=0)])\n",
    "    return res"
   ]
  },
  {
   "cell_type": "code",
   "execution_count": null,
   "metadata": {
    "cell_id": "92cd57d888fd4ba6aeb249890e40a912",
    "deepnote_cell_height": 81,
    "deepnote_cell_type": "code",
    "deepnote_to_be_reexecuted": false,
    "execution_millis": 932469,
    "execution_start": 1656234918525,
    "source_hash": "b17b9050",
    "tags": []
   },
   "outputs": [],
   "source": [
    "exit_times = np.array(mean_brown_exit(-4, 4, 0.01, np.arange(-4, 4+0.1, 0.1), 1000))"
   ]
  },
  {
   "cell_type": "code",
   "execution_count": null,
   "metadata": {
    "cell_id": "a29fb702ede84837bfbb779253b87b2e",
    "deepnote_cell_height": 538.828125,
    "deepnote_cell_type": "code",
    "deepnote_output_heights": [
     225.84375
    ],
    "deepnote_to_be_reexecuted": false,
    "execution_millis": 543,
    "execution_start": 1656238305843,
    "source_hash": "ae20e7b",
    "tags": []
   },
   "outputs": [
    {
     "data": {
      "image/png": "[encoded data removed]",
      "text/plain": [
       "<Figure size 576x360 with 1 Axes>"
      ]
     },
     "metadata": {
      "image/png": {
       "height": 342,
       "width": 517
      }
     },
     "output_type": "display_data"
    }
   ],
   "source": [
    "fig, ax = plt.subplots(figsize=(8,5))\n",
    "ax.scatter(exit_times[:, 0], exit_times[:, 1], label=\"Pomiary symulacyjne\")\n",
    "\n",
    "fnct = lambda x, a, b, c: a * x ** 2 + b * x + c\n",
    "popt, pcov = optimize.curve_fit(fnct, exit_times[:, 0], exit_times[:, 1])\n",
    "xsp = np.arange(-4, 4+0.01, 0.01)\n",
    "a,b,c = popt.round(2)\n",
    "plt.plot(xsp, fnct(xsp, *popt), color = \"red\", label = f\"$\\\\tau_{{[a,b]}}^x\\\\approx {a}x^2+{b}x+{c}$\")\n",
    "ax.set_xlabel(\"$x$\")\n",
    "ax.set_ylabel(\"$\\\\tau_{{[a,b]}}^x$\")\n",
    "ax.set_title(\"Średni czas wyjścia z przedziału $[-4, 4]$\")\n",
    "ax.legend()\n",
    "plt.savefig(\"wiener_czasy.pdf\")"
   ]
  },
  {
   "cell_type": "code",
   "execution_count": null,
   "metadata": {
    "cell_id": "797ca83b12a340aba1b3a2710a9bc1f8",
    "deepnote_cell_height": 118.1875,
    "deepnote_cell_type": "code",
    "deepnote_output_heights": [
     21.1875
    ],
    "deepnote_to_be_reexecuted": false,
    "execution_millis": 15,
    "execution_start": 1656237077355,
    "source_hash": "8c256eae",
    "tags": []
   },
   "outputs": [
    {
     "data": {
      "text/plain": [
       "array([-1.00458539,  0.03246335, 16.54319534])"
      ]
     },
     "execution_count": 22,
     "metadata": {},
     "output_type": "execute_result"
    }
   ],
   "source": [
    "popt"
   ]
  },
  {
   "cell_type": "code",
   "execution_count": null,
   "metadata": {
    "cell_id": "559df7366b7d4fea8ada75605ada3daa",
    "deepnote_cell_height": 486.1875,
    "deepnote_cell_type": "code",
    "deepnote_to_be_reexecuted": false,
    "execution_millis": 131,
    "execution_start": 1656240470028,
    "owner_user_id": "a0d1334c-6e69-46ab-bcea-bfca5a6ab5ad",
    "source_hash": "98786d01",
    "tags": []
   },
   "outputs": [
    {
     "ename": "NameError",
     "evalue": "name 'plt' is not defined",
     "output_type": "error",
     "traceback": [
      "\u001b[0;31m---------------------------------------------------------------------------\u001b[0m",
      "\u001b[0;31mNameError\u001b[0m                                 Traceback (most recent call last)",
      "\u001b[0;32m<ipython-input-1-d2a6080d1565>\u001b[0m in \u001b[0;36m<cell line: 1>\u001b[0;34m()\u001b[0m\n\u001b[0;32m----> 1\u001b[0;31m \u001b[0mfig\u001b[0m\u001b[0;34m,\u001b[0m \u001b[0max\u001b[0m \u001b[0;34m=\u001b[0m \u001b[0mplt\u001b[0m\u001b[0;34m.\u001b[0m\u001b[0msubplots\u001b[0m\u001b[0;34m(\u001b[0m\u001b[0mfigsize\u001b[0m\u001b[0;34m=\u001b[0m\u001b[0;34m(\u001b[0m\u001b[0;36m8\u001b[0m\u001b[0;34m,\u001b[0m\u001b[0;36m5\u001b[0m\u001b[0;34m)\u001b[0m\u001b[0;34m)\u001b[0m\u001b[0;34m\u001b[0m\u001b[0;34m\u001b[0m\u001b[0m\n\u001b[0m\u001b[1;32m      2\u001b[0m \u001b[0max\u001b[0m\u001b[0;34m.\u001b[0m\u001b[0mscatter\u001b[0m\u001b[0;34m(\u001b[0m\u001b[0mexit_times\u001b[0m\u001b[0;34m[\u001b[0m\u001b[0;34m:\u001b[0m\u001b[0;34m,\u001b[0m \u001b[0;36m0\u001b[0m\u001b[0;34m]\u001b[0m\u001b[0;34m,\u001b[0m \u001b[0mexit_times\u001b[0m\u001b[0;34m[\u001b[0m\u001b[0;34m:\u001b[0m\u001b[0;34m,\u001b[0m \u001b[0;36m2\u001b[0m\u001b[0;34m]\u001b[0m\u001b[0;34m,\u001b[0m \u001b[0mlabel\u001b[0m\u001b[0;34m=\u001b[0m\u001b[0;34m\"Pomiary symulacyj\"\u001b[0m\u001b[0;34m)\u001b[0m\u001b[0;34m\u001b[0m\u001b[0;34m\u001b[0m\u001b[0m\n\u001b[1;32m      3\u001b[0m \u001b[0;34m\u001b[0m\u001b[0m\n\u001b[1;32m      4\u001b[0m \u001b[0mfnct\u001b[0m \u001b[0;34m=\u001b[0m \u001b[0;32mlambda\u001b[0m \u001b[0mx\u001b[0m\u001b[0;34m,\u001b[0m \u001b[0ma\u001b[0m\u001b[0;34m,\u001b[0m \u001b[0mb\u001b[0m\u001b[0;34m:\u001b[0m \u001b[0ma\u001b[0m \u001b[0;34m*\u001b[0m \u001b[0mx\u001b[0m \u001b[0;34m+\u001b[0m \u001b[0mb\u001b[0m\u001b[0;34m\u001b[0m\u001b[0;34m\u001b[0m\u001b[0m\n\u001b[1;32m      5\u001b[0m \u001b[0mpopt\u001b[0m\u001b[0;34m,\u001b[0m \u001b[0mpcov\u001b[0m \u001b[0;34m=\u001b[0m \u001b[0moptimize\u001b[0m\u001b[0;34m.\u001b[0m\u001b[0mcurve_fit\u001b[0m\u001b[0;34m(\u001b[0m\u001b[0mfnct\u001b[0m\u001b[0;34m,\u001b[0m \u001b[0mexit_times\u001b[0m\u001b[0;34m[\u001b[0m\u001b[0;34m:\u001b[0m\u001b[0;34m,\u001b[0m \u001b[0;36m0\u001b[0m\u001b[0;34m]\u001b[0m\u001b[0;34m,\u001b[0m \u001b[0mexit_times\u001b[0m\u001b[0;34m[\u001b[0m\u001b[0;34m:\u001b[0m\u001b[0;34m,\u001b[0m \u001b[0;36m2\u001b[0m\u001b[0;34m]\u001b[0m\u001b[0;34m)\u001b[0m\u001b[0;34m\u001b[0m\u001b[0;34m\u001b[0m\u001b[0m\n",
      "\u001b[0;31mNameError\u001b[0m: name 'plt' is not defined"
     ]
    }
   ],
   "source": [
    "fig, ax = plt.subplots(figsize=(8,5))\n",
    "ax.scatter(exit_times[:, 0], exit_times[:, 2], label=\"Pomiary symulacyj\")\n",
    "\n",
    "fnct = lambda x, a, b: a * x + b\n",
    "popt, pcov = optimize.curve_fit(fnct, exit_times[:, 0], exit_times[:, 2])\n",
    "xsp = np.arange(-4, 4 + 0.01, 0.01)\n",
    "a, b = popt.round(2)\n",
    "plt.plot(\n",
    "    xsp,\n",
    "    fnct(xsp, *popt),\n",
    "    color=\"red\",\n",
    "    label=r\"$P(B_{{\\tau^x}}^x = b)\\approx{a}x+{b}$\".format(\n",
    "        a=a, b=b\n",
    "    ),\n",
    ")\n",
    "ax.set_xlabel(\"$x$\")\n",
    "ax.set_ylabel(\"$P(B_{\\\\tau^x}^x = b)$\")\n",
    "ax.set_title(\"Prawdopodobieństwo wyjścia z przedziału $[-4, 4]$ przez $b$\")\n",
    "ax.legend(loc=\"lower right\")\n",
    "plt.savefig(\"wiener_prawdo.pdf\")"
   ]
  },
  {
   "cell_type": "code",
   "execution_count": null,
   "metadata": {
    "cell_id": "b9ae9d84a60b4ed1a89ea590dbe04d7f",
    "deepnote_cell_height": 118.1875,
    "deepnote_cell_type": "code",
    "deepnote_output_heights": [
     21.1875
    ],
    "deepnote_to_be_reexecuted": false,
    "execution_millis": 627,
    "execution_start": 1656237880372,
    "source_hash": "8c256eae",
    "tags": []
   },
   "outputs": [
    {
     "data": {
      "text/plain": [
       "array([0.12256527, 0.50019753])"
      ]
     },
     "execution_count": 35,
     "metadata": {},
     "output_type": "execute_result"
    }
   ],
   "source": [
    "popt"
   ]
  }
 ],
 "metadata": {
  "deepnote": {},
  "deepnote_execution_queue": [],
  "deepnote_notebook_id": "66c096bd-370c-4fd3-ac1f-26a9711f12e2",
  "kernelspec": {
   "display_name": "Python 3",
   "language": "python",
   "name": "python3"
  },
  "language_info": {
   "codemirror_mode": {
    "name": "ipython",
    "version": 3
   },
   "file_extension": ".py",
   "mimetype": "text/x-python",
   "name": "python",
   "nbconvert_exporter": "python",
   "pygments_lexer": "ipython3",
   "version": "3.8.5"
  }
 },
 "nbformat": 4,
 "nbformat_minor": 2
}
